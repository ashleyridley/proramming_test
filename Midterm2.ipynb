{
 "cells": [
  {
   "cell_type": "markdown",
   "id": "817470b9",
   "metadata": {},
   "source": [
    "# Midterm 2 coding Questions Total : 60 \n",
    "### 50 minute\n",
    "### Name- Ashley Ridley\n",
    "After complition submit it on Moodle using `GitHub` with in the assigned time \n"
   ]
  },
  {
   "cell_type": "markdown",
   "id": "8d611a3d",
   "metadata": {},
   "source": [
    "### Question 1. Print all of the numbers between 1 to 10 and square each numbers and append those to a new list\n",
    "- 5 points"
   ]
  },
  {
   "cell_type": "code",
   "execution_count": 1,
   "id": "d539c611",
   "metadata": {},
   "outputs": [
    {
     "name": "stdout",
     "output_type": "stream",
     "text": [
      "[1, 4, 9, 16, 25, 36, 49, 64, 81]\n"
     ]
    }
   ],
   "source": [
    "squares=[number**2 for number in range(1,10)]\n",
    "print(squares)"
   ]
  },
  {
   "cell_type": "code",
   "execution_count": 2,
   "id": "27b90d4e",
   "metadata": {},
   "outputs": [
    {
     "name": "stdout",
     "output_type": "stream",
     "text": [
      "[1, 4, 9, 16, 25, 36, 49, 64, 81]\n"
     ]
    }
   ],
   "source": [
    "numbers=[]\n",
    "numbers.append(1)\n",
    "numbers.append(4)\n",
    "numbers.append(9)\n",
    "numbers.append(16)\n",
    "numbers.append(25)\n",
    "numbers.append(36)\n",
    "numbers.append(49)\n",
    "numbers.append(64)\n",
    "numbers.append(81)\n",
    "print(numbers)"
   ]
  },
  {
   "cell_type": "markdown",
   "id": "8ef2873c",
   "metadata": {},
   "source": [
    "### Question 2. Create a list of 10 random numbers and find out minimum , maximum and total of teh list.\n",
    "* 5 + 3 = 8 points"
   ]
  },
  {
   "cell_type": "code",
   "execution_count": 3,
   "id": "45e5ee75",
   "metadata": {},
   "outputs": [
    {
     "name": "stdout",
     "output_type": "stream",
     "text": [
      "[6, 5, 9, 9, 3, 7, 3, 3, 8, 5]\n"
     ]
    }
   ],
   "source": [
    "import random\n",
    "rand_list=[]\n",
    "n=10\n",
    "for i in range(n):\n",
    "    rand_list.append(random.randint(3,9))\n",
    "print(rand_list)"
   ]
  },
  {
   "cell_type": "code",
   "execution_count": 4,
   "id": "e069f7c9",
   "metadata": {},
   "outputs": [
    {
     "data": {
      "text/plain": [
       "3"
      ]
     },
     "execution_count": 4,
     "metadata": {},
     "output_type": "execute_result"
    }
   ],
   "source": [
    "min(rand_list)"
   ]
  },
  {
   "cell_type": "code",
   "execution_count": 5,
   "id": "c5ba4aa2",
   "metadata": {},
   "outputs": [
    {
     "data": {
      "text/plain": [
       "9"
      ]
     },
     "execution_count": 5,
     "metadata": {},
     "output_type": "execute_result"
    }
   ],
   "source": [
    "max(rand_list)"
   ]
  },
  {
   "cell_type": "code",
   "execution_count": 6,
   "id": "b4837a63",
   "metadata": {},
   "outputs": [
    {
     "data": {
      "text/plain": [
       "58"
      ]
     },
     "execution_count": 6,
     "metadata": {},
     "output_type": "execute_result"
    }
   ],
   "source": [
    "sum(rand_list)"
   ]
  },
  {
   "cell_type": "markdown",
   "id": "2ebd3676",
   "metadata": {},
   "source": [
    "### Question 3. Print `day` and `300` from the new_list\n",
    "new_list= [10, ['new', 300, [[3.141, 20],  345 ]], 'day' ]\n",
    "* 3 + 3 = 6 points"
   ]
  },
  {
   "cell_type": "code",
   "execution_count": 7,
   "id": "6a656b2c",
   "metadata": {},
   "outputs": [],
   "source": [
    "new_list= [10, ['new', 300, [[3.141, 20], 345 ]], 'day' ]"
   ]
  },
  {
   "cell_type": "code",
   "execution_count": 8,
   "id": "46f163c1",
   "metadata": {},
   "outputs": [
    {
     "data": {
      "text/plain": [
       "[10, ['new', 300, [[3.141, 20], 345]], 'day']"
      ]
     },
     "execution_count": 8,
     "metadata": {},
     "output_type": "execute_result"
    }
   ],
   "source": [
    "new_list"
   ]
  },
  {
   "cell_type": "code",
   "execution_count": 9,
   "id": "6a37ba1f",
   "metadata": {},
   "outputs": [
    {
     "data": {
      "text/plain": [
       "[[3.141, 20], 345]"
      ]
     },
     "execution_count": 9,
     "metadata": {},
     "output_type": "execute_result"
    }
   ],
   "source": [
    "new_list[1][2]"
   ]
  },
  {
   "cell_type": "markdown",
   "id": "68fd8f82",
   "metadata": {},
   "source": [
    "### Question 4.  College=(\"Bellarmine\", \"2001 Neuburg RD\")\n",
    "Print the `name` of the College.\n",
    "* 5 points"
   ]
  },
  {
   "cell_type": "code",
   "execution_count": 10,
   "id": "a56eca6f",
   "metadata": {},
   "outputs": [],
   "source": [
    "College=(\"Bellarmine\", \"2001 Neuburg RD\")"
   ]
  },
  {
   "cell_type": "code",
   "execution_count": 11,
   "id": "7b7ba2d3",
   "metadata": {},
   "outputs": [],
   "source": [
    "name,address=College"
   ]
  },
  {
   "cell_type": "code",
   "execution_count": 12,
   "id": "76c092f2",
   "metadata": {},
   "outputs": [
    {
     "data": {
      "text/plain": [
       "'Bellarmine'"
      ]
     },
     "execution_count": 12,
     "metadata": {},
     "output_type": "execute_result"
    }
   ],
   "source": [
    "name"
   ]
  },
  {
   "cell_type": "markdown",
   "id": "3468dc38",
   "metadata": {},
   "source": [
    "### Question 5. In the United States as of 1995, minor is generally legally defined as a person under the age of 18. Write a code to check a student is minor or not. Verify the code by user input\n",
    "* 6 points"
   ]
  },
  {
   "cell_type": "code",
   "execution_count": 13,
   "id": "efebbcfd",
   "metadata": {},
   "outputs": [
    {
     "name": "stdout",
     "output_type": "stream",
     "text": [
      "Enter the age12\n",
      "You are considered a minor\n"
     ]
    }
   ],
   "source": [
    "age=int(input(\"Enter the age\"))\n",
    "if age<18:\n",
    "    print(\"You are considered a minor\")\n",
    "else:\n",
    "    print(\"you are not a minor \")"
   ]
  },
  {
   "cell_type": "code",
   "execution_count": null,
   "id": "b4a00def",
   "metadata": {},
   "outputs": [],
   "source": []
  },
  {
   "cell_type": "markdown",
   "id": "f84b9ccd",
   "metadata": {},
   "source": [
    "### Question 6. Get an input from user and check whether the number is `odd` and `greater than 10`. If not then comment\n",
    "* 5 points"
   ]
  },
  {
   "cell_type": "code",
   "execution_count": 14,
   "id": "1c59673a",
   "metadata": {},
   "outputs": [
    {
     "name": "stdout",
     "output_type": "stream",
     "text": [
      "Enter any number: 13\n",
      "The number is odd and also greater than 10\n"
     ]
    }
   ],
   "source": [
    "x= int(input(\"Enter any number: \"))\n",
    "if x% 2!= 0:\n",
    "    if x>10:\n",
    "        print(\"The number is odd and also greater than 10\")\n",
    "    else:\n",
    "        print(\"The number is odd and less than 10\")\n",
    "else:\n",
    "    print(\"The number is an even number\")"
   ]
  },
  {
   "cell_type": "code",
   "execution_count": null,
   "id": "3f1d3047",
   "metadata": {},
   "outputs": [],
   "source": []
  },
  {
   "cell_type": "markdown",
   "id": "45951768",
   "metadata": {},
   "source": [
    "### Question 7. Get a user input and check the given number is multiple of 11 or not\n",
    "* 5 points"
   ]
  },
  {
   "cell_type": "code",
   "execution_count": 15,
   "id": "39bc4fb6",
   "metadata": {},
   "outputs": [
    {
     "name": "stdout",
     "output_type": "stream",
     "text": [
      "Enter a number: 22\n",
      "Number is multiple of 11\n"
     ]
    }
   ],
   "source": [
    "n = int(input(\"Enter a number: \"))\n",
    "if n%11==0:\n",
    "    print(\"Number is multiple of 11\")\n",
    "else:\n",
    "    print(\"Number is not multiple of 11\")"
   ]
  },
  {
   "cell_type": "code",
   "execution_count": null,
   "id": "a8d685dc",
   "metadata": {},
   "outputs": [],
   "source": []
  },
  {
   "cell_type": "markdown",
   "id": "a0763abf",
   "metadata": {},
   "source": [
    "### Question 8. Convert the lists to dictionary\n",
    "* keys =  [10, 20, 30]\n",
    "* values =['Ten', 'Twenty', 'Thirty']\n",
    "* 4 points"
   ]
  },
  {
   "cell_type": "code",
   "execution_count": 16,
   "id": "e62f4e7c",
   "metadata": {},
   "outputs": [],
   "source": [
    "keys = [10, 20, 30]"
   ]
  },
  {
   "cell_type": "code",
   "execution_count": 17,
   "id": "1280159f",
   "metadata": {},
   "outputs": [],
   "source": [
    "values =['Ten', 'Twenty', 'Thirty']"
   ]
  },
  {
   "cell_type": "code",
   "execution_count": 18,
   "id": "d93d240b",
   "metadata": {},
   "outputs": [
    {
     "data": {
      "text/plain": [
       "[(10, 'Ten'), (20, 'Twenty'), (30, 'Thirty')]"
      ]
     },
     "execution_count": 18,
     "metadata": {},
     "output_type": "execute_result"
    }
   ],
   "source": [
    "list(zip(keys,values))"
   ]
  },
  {
   "cell_type": "code",
   "execution_count": 20,
   "id": "bacb108f",
   "metadata": {},
   "outputs": [
    {
     "data": {
      "text/plain": [
       "{10: 'Ten', 20: 'Twenty', 30: 'Thirty'}"
      ]
     },
     "execution_count": 20,
     "metadata": {},
     "output_type": "execute_result"
    }
   ],
   "source": [
    "dict(zip(keys,values)) #this is the answer"
   ]
  },
  {
   "cell_type": "markdown",
   "id": "c2784d84",
   "metadata": {},
   "source": [
    "### Question 9. Write a function that can take `any arbitary numbers` as inputs and calculate the maximum of them. Check the function for two sets of inputs.\n",
    "* 2+2 points"
   ]
  },
  {
   "cell_type": "code",
   "execution_count": 36,
   "id": "f5654b0e",
   "metadata": {},
   "outputs": [
    {
     "name": "stdout",
     "output_type": "stream",
     "text": [
      "Enter any number: 12\n",
      "Enter any number: 24\n",
      "Enter any number: 32\n"
     ]
    }
   ],
   "source": [
    "n=int(input(\"Enter any number: \"))\n",
    "a=int(input(\"Enter any number: \"))\n",
    "t=int(input(\"Enter any number: \"))\n",
    "numbers=[]\n",
    "numbers.append(n)\n",
    "numbers.append(a)\n",
    "numbers.append(t)\n",
    "def addition(*args):\n",
    "    return sum(args)"
   ]
  },
  {
   "cell_type": "code",
   "execution_count": 34,
   "id": "6ebc4703",
   "metadata": {},
   "outputs": [
    {
     "name": "stdout",
     "output_type": "stream",
     "text": [
      "[22, 3, 5]\n"
     ]
    }
   ],
   "source": [
    "print(numbers)"
   ]
  },
  {
   "cell_type": "code",
   "execution_count": 35,
   "id": "d2a7c87f",
   "metadata": {},
   "outputs": [
    {
     "data": {
      "text/plain": [
       "22"
      ]
     },
     "execution_count": 35,
     "metadata": {},
     "output_type": "execute_result"
    }
   ],
   "source": [
    "max(numbers)"
   ]
  },
  {
   "cell_type": "code",
   "execution_count": 37,
   "id": "a5b1373d",
   "metadata": {},
   "outputs": [
    {
     "name": "stdout",
     "output_type": "stream",
     "text": [
      "[12, 24, 32]\n"
     ]
    }
   ],
   "source": [
    "print(numbers)"
   ]
  },
  {
   "cell_type": "code",
   "execution_count": 38,
   "id": "d539515c",
   "metadata": {},
   "outputs": [
    {
     "data": {
      "text/plain": [
       "32"
      ]
     },
     "execution_count": 38,
     "metadata": {},
     "output_type": "execute_result"
    }
   ],
   "source": [
    "max(numbers)"
   ]
  },
  {
   "cell_type": "markdown",
   "id": "c108c295",
   "metadata": {},
   "source": [
    "### Question 10. Write functions to find out Area and Perimeter of a square. Check the result for side = 10.\n",
    "\n",
    "* 3+3 points\n"
   ]
  },
  {
   "cell_type": "code",
   "execution_count": 39,
   "id": "a1ad705a",
   "metadata": {},
   "outputs": [
    {
     "name": "stdout",
     "output_type": "stream",
     "text": [
      "Length : 12\n",
      "Width : 6\n",
      "Area of Rectangle :  72\n",
      "Perimeter of Rectangle :  36\n"
     ]
    }
   ],
   "source": [
    "l=int(input(\"Length : \"))\n",
    "w=int(input(\"Width : \"))\n",
    "area=l*w\n",
    "perimeter=2*(l+w)\n",
    "print(\"Area of Rectangle : \",area)\n",
    "print(\"Perimeter of Rectangle : \",perimeter)"
   ]
  },
  {
   "cell_type": "code",
   "execution_count": null,
   "id": "13cc9893",
   "metadata": {},
   "outputs": [],
   "source": []
  },
  {
   "cell_type": "markdown",
   "id": "a187f917",
   "metadata": {},
   "source": [
    "### Question 11. Write down two program using while and for loop that prints all of the number from 10 to 20 (included) \n",
    "* 3+3 points"
   ]
  },
  {
   "cell_type": "code",
   "execution_count": 45,
   "id": "5afcef79",
   "metadata": {},
   "outputs": [
    {
     "name": "stdout",
     "output_type": "stream",
     "text": [
      "10\n",
      "11\n",
      "12\n",
      "13\n",
      "14\n",
      "15\n",
      "16\n",
      "17\n",
      "18\n",
      "19\n",
      "20\n"
     ]
    }
   ],
   "source": [
    "i = 10\n",
    "while(i<=20):\n",
    "    print(i)\n",
    "    i += 1"
   ]
  },
  {
   "cell_type": "code",
   "execution_count": 42,
   "id": "eb21f8ce",
   "metadata": {},
   "outputs": [
    {
     "name": "stdout",
     "output_type": "stream",
     "text": [
      "10\n",
      "11\n",
      "12\n",
      "13\n",
      "14\n",
      "15\n",
      "16\n",
      "17\n",
      "18\n",
      "19\n",
      "20\n"
     ]
    }
   ],
   "source": [
    "for i in range(10, 21):\n",
    "    print(i)"
   ]
  },
  {
   "cell_type": "code",
   "execution_count": null,
   "id": "c1b05666",
   "metadata": {},
   "outputs": [],
   "source": []
  }
 ],
 "metadata": {
  "kernelspec": {
   "display_name": "Python 3 (ipykernel)",
   "language": "python",
   "name": "python3"
  },
  "language_info": {
   "codemirror_mode": {
    "name": "ipython",
    "version": 3
   },
   "file_extension": ".py",
   "mimetype": "text/x-python",
   "name": "python",
   "nbconvert_exporter": "python",
   "pygments_lexer": "ipython3",
   "version": "3.9.12"
  }
 },
 "nbformat": 4,
 "nbformat_minor": 5
}
